{
  "cells": [
    {
      "cell_type": "markdown",
      "metadata": {
        "id": "5qV_sehzFCTp"
      },
      "source": [
        "# I. OOP"
      ]
    },
    {
      "cell_type": "markdown",
      "metadata": {
        "id": "tx_U_hOALyfg"
      },
      "source": [
        "1. (6б). Створіть клас Animal, додайте три атрибути, один з яких має значення за замовчуванням та два методи на свій розсуд."
      ]
    },
    {
      "cell_type": "code",
      "execution_count": 9,
      "metadata": {
        "id": "-Vf895KaL88N"
      },
      "outputs": [],
      "source": [
        "class Animal:\n",
        "    def __init__(self, name, age = 0):\n",
        "        self.name = name\n",
        "        self.age = age\n",
        "    \n",
        "    def __str__(self):\n",
        "        return f\"{self.name} is {self.age}\"\n",
        "    \n",
        "    def get_age(self):\n",
        "        return self.age\n",
        "\n"
      ]
    },
    {
      "cell_type": "markdown",
      "metadata": {
        "id": "X_UlOMB0L93w"
      },
      "source": [
        "2. (2б). Створіть два обʼєкти цього класу, де один з обʼєктів створюється із дефолтним значенням атрибуту. На одному обʼєкті отримайте значення його атрибуту, а на іншому викличте один з його методів."
      ]
    },
    {
      "cell_type": "code",
      "execution_count": 10,
      "metadata": {
        "id": "7gBu0ESOMCpG"
      },
      "outputs": [
        {
          "name": "stdout",
          "output_type": "stream",
          "text": [
            "Joe\n",
            "Tom is 0\n"
          ]
        }
      ],
      "source": [
        "an1 = Animal(\"Joe\", 10)\n",
        "an2 = Animal(\"Tom\")\n",
        "print(an1.name)\n",
        "print(an2)"
      ]
    },
    {
      "cell_type": "markdown",
      "metadata": {
        "id": "HoqSCZt1MHn5"
      },
      "source": [
        "3. (5б). Створіть клас, де атрибути мають різні рівні доступу. Спробуйте отримати їхні значення та опишіть результати."
      ]
    },
    {
      "cell_type": "code",
      "execution_count": 15,
      "metadata": {
        "id": "r9b3vJxBMSPV"
      },
      "outputs": [
        {
          "name": "stdout",
          "output_type": "stream",
          "text": [
            "damian\n",
            "19\n"
          ]
        }
      ],
      "source": [
        "class Person:\n",
        "    def __init__(self, name, age = 0):\n",
        "        self.name = name\n",
        "        self.__age = age\n",
        "    \n",
        "    def __str__(self):\n",
        "        return f\"{self.name} is {self.age}\"\n",
        "    \n",
        "    def get_age(self):\n",
        "        return self.__age\n",
        "    \n",
        "\n",
        "p1 = Person(\"damian\", 19)\n",
        "print(p1.name)\n",
        "print(p1.get_age())"
      ]
    },
    {
      "cell_type": "markdown",
      "metadata": {
        "id": "5op2m2vgMSkZ"
      },
      "source": [
        "4. (7б). Як ви розумієте термін self? Для чого використовується метод __init __?"
      ]
    },
    {
      "cell_type": "markdown",
      "metadata": {
        "id": "DyiPqNRvMasx"
      },
      "source": [
        "Self представляє екземпляр класу. \n",
        "Використовуючи «self», ми можемо отримати доступ до атрибутів і методів класу в Python. \n",
        "Він пов’язує атрибути з заданими аргументами.\n",
        "\n",
        "__init__ використовується для ініціалізації обє'кта класу при його створенні."
      ]
    },
    {
      "cell_type": "markdown",
      "metadata": {
        "id": "-6X8EGfjMd2y"
      },
      "source": [
        "5. (9б). Створіть клас Фігура без атрибутів, з методом get_area для отримання площі фігури, що повертає 0 та __add __, який приймає self та other в якості аргументів, а повертає суму площин фігур self та other."
      ]
    },
    {
      "cell_type": "code",
      "execution_count": 22,
      "metadata": {
        "id": "4rvO_wYUMaEr"
      },
      "outputs": [
        {
          "name": "stdout",
          "output_type": "stream",
          "text": [
            "0\n"
          ]
        }
      ],
      "source": [
        "class Figure:\n",
        "    def __init__(self):\n",
        "        pass\n",
        "\n",
        "    def get_area(self):\n",
        "        return 0\n",
        "    \n",
        "    def __add__(self, other):\n",
        "        return self.get_area() + other.get_area()\n",
        "    \n",
        "\n",
        "f1 = Figure()\n",
        "f2 = Figure()\n",
        "print(f1 + f2)    \n"
      ]
    },
    {
      "cell_type": "markdown",
      "metadata": {
        "id": "SFcKnnv5Mo_z"
      },
      "source": [
        "6. (11б). Створіть 2 дочірніх класи від Фігури: Трикутник та Коло, які мають атрибути, необхідні для розрахунку площин. Визначте метод get_area в кожному з них так, щоби вони розраховували площу в залежності від формули для кожного типу фігури. Створіть обʼєкт класу Трикутник та обʼєкт класу Коло. Виконайте операцію суми за допомогою оператора + між ними."
      ]
    },
    {
      "cell_type": "code",
      "execution_count": 24,
      "metadata": {
        "id": "H3GVNr69Muf3"
      },
      "outputs": [
        {
          "name": "stdout",
          "output_type": "stream",
          "text": [
            "89.32531754730549\n"
          ]
        }
      ],
      "source": [
        "class Triangle(Figure):\n",
        "    def __init__(self, side1, side2, side3):\n",
        "        self.__side1 = side1\n",
        "        self.__side2 = side2\n",
        "        self.__side3 = side3\n",
        "\n",
        "    def get_p(self):\n",
        "        return self.__side1 + self.__side2 + self.__side3\n",
        "    \n",
        "    def get_area(self):\n",
        "        s = self.get_p() / 2\n",
        "        return (s * (s - self.__side1) * (s - self.__side2) * (s - self.__side3)) ** 0.5\n",
        "    \n",
        "class Circle(Figure):\n",
        "    def __init__(self, radius):\n",
        "        self.__radius = radius\n",
        "    \n",
        "    def get_area(self):\n",
        "        return self.__radius * self.__radius * 3.14\n",
        "    \n",
        "t = Triangle(5, 5, 5)\n",
        "c = Circle(5)\n",
        "print(t + c)\n"
      ]
    },
    {
      "cell_type": "markdown",
      "metadata": {
        "id": "HCvR206YMvLK"
      },
      "source": [
        "7. (3б). Продемонструйте різницю між isinstance та issubclass."
      ]
    },
    {
      "cell_type": "code",
      "execution_count": 32,
      "metadata": {
        "id": "L_V1bBvDM0GN"
      },
      "outputs": [
        {
          "name": "stdout",
          "output_type": "stream",
          "text": [
            "True\n",
            "False\n",
            "True\n",
            "False\n"
          ]
        }
      ],
      "source": [
        "t = Triangle(1,1,1)\n",
        "print(isinstance(t, Triangle))\n",
        "print(isinstance(t, int))\n",
        "\n",
        "print(issubclass(Circle, Figure))\n",
        "print(issubclass(Circle, int))"
      ]
    },
    {
      "cell_type": "markdown",
      "metadata": {
        "id": "jjsaBZ-iM0Qq"
      },
      "source": [
        "8. (13б). Створіть клас BankAccount з приватними атрибутами balance та account_number. Реалізуйте методи поповнення та зняття коштів, забезпечивши належну інкапсуляцію. Підказка: використовуйте декоратори property та setter."
      ]
    },
    {
      "cell_type": "code",
      "execution_count": 54,
      "metadata": {
        "id": "xCvZ7lh8M7YA"
      },
      "outputs": [
        {
          "name": "stdout",
          "output_type": "stream",
          "text": [
            "100\n",
            "50\n"
          ]
        }
      ],
      "source": [
        "class BankAccount:\n",
        "    def __init__(self, balance, account_number):\n",
        "        self.__balance = balance\n",
        "        self.__account_number = account_number\n",
        "\n",
        "    @property\n",
        "    def balance(self):\n",
        "        return self.__balance\n",
        "    \n",
        "    @balance.setter\n",
        "    def balance(self, value):\n",
        "        if isinstance(value, int) or isinstance(value, float):\n",
        "            if value > 0:\n",
        "                self.__balance = value\n",
        "            else:\n",
        "                raise TypeError()\n",
        "        else:\n",
        "            raise TypeError()\n",
        "        \n",
        "\n",
        "b = BankAccount(100, 1)\n",
        "print(b.balance)\n",
        "b.balance = 50\n",
        "print(b.balance)\n",
        "    "
      ]
    },
    {
      "cell_type": "markdown",
      "metadata": {
        "id": "tIzL2SJTM8ft"
      },
      "source": [
        "9. (11б). Створіть клас Library, який містить список об'єктів типу Book. Реалізуйте методи для додавання книги, видалення книги та відображення списку книг."
      ]
    },
    {
      "cell_type": "code",
      "execution_count": 170,
      "metadata": {
        "id": "HWxfJKLtNAUZ"
      },
      "outputs": [],
      "source": [
        "class Book:\n",
        "    def __init__(self, title):\n",
        "        self.__title = title\n",
        "\n",
        "    @property\n",
        "    def title(self):\n",
        "        return self.__title\n",
        "    \n",
        "    @title.setter\n",
        "    def title(self, value):\n",
        "        if isinstance(value, str):\n",
        "            self.__title = value\n",
        "        else:\n",
        "            raise TypeError()\n",
        "        \n",
        "    def __str__(self):\n",
        "        return self.__title"
      ]
    },
    {
      "cell_type": "code",
      "execution_count": 183,
      "metadata": {},
      "outputs": [
        {
          "name": "stdout",
          "output_type": "stream",
          "text": [
            "halo 1 halo 2\n",
            "[ halo 1 halo 2 ]\n"
          ]
        }
      ],
      "source": [
        "b1 = Book(\"halo 1\")\n",
        "b2 = Book(\"halo 2\")\n",
        "print(b1, b2)\n",
        "lib = Library()\n",
        "lib.add(b1)\n",
        "lib.add(b2)\n",
        "print(lib)"
      ]
    },
    {
      "cell_type": "code",
      "execution_count": 182,
      "metadata": {},
      "outputs": [],
      "source": [
        "class Library:\n",
        "    def __init__(self):\n",
        "        self.__book_list = list()\n",
        "\n",
        "    def add(self, book):\n",
        "        if isinstance(book, Book):\n",
        "            self.__book_list.append(book)\n",
        "        else:\n",
        "             raise TypeError()\n",
        "        \n",
        "    def remove(self, book):\n",
        "        if isinstance(book, Book):\n",
        "            self.__book_list.remove(book)\n",
        "        else:\n",
        "             raise TypeError()\n",
        "        \n",
        "    def __str__(self):\n",
        "        string = \"[ \"\n",
        "        for i in self.__book_list:\n",
        "            string += i.__str__()\n",
        "            string += ' '\n",
        "        string += ']'\n",
        "        return string\n",
        "    "
      ]
    },
    {
      "cell_type": "markdown",
      "metadata": {
        "id": "lmV8pAwwNIqu"
      },
      "source": [
        "10. (13б). Створіть клас Person з атрибутами name та age. Створіть ще один клас Employee з такими атрибутами, як department та salary. Створіть клас Manager, який успадковує обидва класи Person та Employee. Продемонструйте використання множинної спадковості, створивши обʼєкт класу Manager та отримавши mro для цього класу."
      ]
    },
    {
      "cell_type": "code",
      "execution_count": 132,
      "metadata": {
        "id": "R49grKlWNPeN"
      },
      "outputs": [],
      "source": [
        "class Person:\n",
        "    def __init__(self, name, age):\n",
        "        self.name = name\n",
        "        if not isinstance(age, int) or age < 0:\n",
        "            raise TypeError()\n",
        "        self.age = age"
      ]
    },
    {
      "cell_type": "code",
      "execution_count": 131,
      "metadata": {},
      "outputs": [],
      "source": [
        "class Employee:\n",
        "    def __init__(self, department, salary):\n",
        "        self.department = department\n",
        "        self.salary = salary"
      ]
    },
    {
      "cell_type": "code",
      "execution_count": 141,
      "metadata": {},
      "outputs": [
        {
          "name": "stdout",
          "output_type": "stream",
          "text": [
            "jon 33 4 100\n"
          ]
        }
      ],
      "source": [
        "class Manager(Person, Employee):\n",
        "    def __init__(self, name, age, department, salary):\n",
        "        Person.__init__(self, name, age)\n",
        "        Employee.__init__(self, department, salary)\n",
        "\n",
        "m = Manager(\"jon\", 33, 4, 100)\n",
        "print(m.name, m.age, m.department, m.salary)\n"
      ]
    },
    {
      "cell_type": "markdown",
      "metadata": {
        "id": "dIJyUiNBFG8G"
      },
      "source": [
        "# II. Iterator"
      ]
    },
    {
      "cell_type": "markdown",
      "metadata": {
        "id": "13vsm0NyKIzL"
      },
      "source": [
        "11. (4б). Визначте рядок(str) з 4ма різними за значенням символами. Створіть ітератор на основі цього рядка. Викличте 5 разів функцію next на ітераторі, 4ри перших з них огорніть у ф-цію print()."
      ]
    },
    {
      "cell_type": "code",
      "execution_count": 187,
      "metadata": {
        "id": "81ntabAkKuz-"
      },
      "outputs": [
        {
          "name": "stdout",
          "output_type": "stream",
          "text": [
            "a\n",
            "b\n",
            "c\n",
            "d\n"
          ]
        },
        {
          "ename": "StopIteration",
          "evalue": "",
          "output_type": "error",
          "traceback": [
            "\u001b[1;31m---------------------------------------------------------------------------\u001b[0m",
            "\u001b[1;31mStopIteration\u001b[0m                             Traceback (most recent call last)",
            "Cell \u001b[1;32mIn[187], line 7\u001b[0m\n\u001b[0;32m      5\u001b[0m \u001b[38;5;28mprint\u001b[39m(\u001b[38;5;28mnext\u001b[39m(it))\n\u001b[0;32m      6\u001b[0m \u001b[38;5;28mprint\u001b[39m(\u001b[38;5;28mnext\u001b[39m(it))\n\u001b[1;32m----> 7\u001b[0m \u001b[38;5;28;43mnext\u001b[39;49m\u001b[43m(\u001b[49m\u001b[43mit\u001b[49m\u001b[43m)\u001b[49m\n",
            "\u001b[1;31mStopIteration\u001b[0m: "
          ]
        }
      ],
      "source": [
        "s = \"abcd\"\n",
        "it = iter(s)\n",
        "print(next(it))\n",
        "print(next(it))\n",
        "print(next(it))\n",
        "print(next(it))\n",
        "next(it)"
      ]
    },
    {
      "cell_type": "markdown",
      "metadata": {
        "id": "aekWHGXOLRsO"
      },
      "source": [
        "А що якщо викликати цю ж функцію на рядку?"
      ]
    },
    {
      "cell_type": "code",
      "execution_count": 217,
      "metadata": {
        "id": "mxATGsErLV1i"
      },
      "outputs": [
        {
          "ename": "TypeError",
          "evalue": "'str' object is not an iterator",
          "output_type": "error",
          "traceback": [
            "\u001b[1;31m---------------------------------------------------------------------------\u001b[0m",
            "\u001b[1;31mTypeError\u001b[0m                                 Traceback (most recent call last)",
            "Cell \u001b[1;32mIn[217], line 1\u001b[0m\n\u001b[1;32m----> 1\u001b[0m \u001b[38;5;28;43mnext\u001b[39;49m\u001b[43m(\u001b[49m\u001b[38;5;124;43m\"\u001b[39;49m\u001b[38;5;124;43mstring\u001b[39;49m\u001b[38;5;124;43m\"\u001b[39;49m\u001b[43m)\u001b[49m\n",
            "\u001b[1;31mTypeError\u001b[0m: 'str' object is not an iterator"
          ]
        }
      ],
      "source": [
        "next(\"string\")"
      ]
    },
    {
      "cell_type": "markdown",
      "metadata": {
        "id": "XwtMEopwJ4pH"
      },
      "source": [
        " 12. (5б). Опишіть своїми словами в одному реченні, як ви розумієте різницю між ітерабельними обʼєктами та ітераторами (можна на прикладі)."
      ]
    },
    {
      "cell_type": "markdown",
      "metadata": {
        "id": "-sHrODc3KFn8"
      },
      "source": [
        "Ітерабл це об'єкт над яким, якщо використати iter() згенерується ітератор\n",
        "Ітератор це об'єкт, який використовується для ітерування через ітерабельні обєкти використовуючи функцію next()"
      ]
    },
    {
      "cell_type": "markdown",
      "metadata": {
        "id": "E9qJWmNbK8Gl"
      },
      "source": [
        "13. (11б). Створіть клас, що має визначений Iterator Protocol та при кожному виклику next повертає літери англійської абетки, поки вони не вичерпаються."
      ]
    },
    {
      "cell_type": "code",
      "execution_count": 216,
      "metadata": {
        "id": "cqx-g_RsLo6I"
      },
      "outputs": [
        {
          "name": "stdout",
          "output_type": "stream",
          "text": [
            "a\n",
            "b\n",
            "c\n",
            "\n",
            "a\n",
            "b\n",
            "c\n",
            "d\n",
            "e\n",
            "f\n",
            "g\n",
            "h\n",
            "i\n",
            "j\n",
            "k\n",
            "l\n",
            "m\n",
            "n\n",
            "o\n",
            "p\n",
            "q\n",
            "r\n",
            "s\n",
            "t\n",
            "u\n",
            "v\n",
            "w\n",
            "x\n",
            "y\n",
            "z\n"
          ]
        }
      ],
      "source": [
        "class Alphabet:\n",
        "    def __init__(self):\n",
        "        self.__list = list()\n",
        "        self.fill_alphabet_up()\n",
        "\n",
        "    def fill_alphabet_up(self):\n",
        "        for i in range(97, 97+27):\n",
        "            self.__list.append(chr(i))\n",
        "\n",
        "    def __iter__(self):\n",
        "        self.__n = -1\n",
        "        return self\n",
        "    \n",
        "    def __next__(self):\n",
        "        if self.__n < 25:\n",
        "            self.__n += 1\n",
        "            return self.__list[self.__n]\n",
        "        else:\n",
        "            raise StopIteration()\n",
        "\n",
        "al = Alphabet()\n",
        "it = iter(al)\n",
        "print(next(it))\n",
        "print(next(it))\n",
        "print(next(it))\n",
        "\n",
        "print()\n",
        "\n",
        "for i in Alphabet():\n",
        "    print(i)"
      ]
    },
    {
      "cell_type": "markdown",
      "metadata": {
        "id": "Z3E3S_s1Fv7-"
      },
      "source": [
        "# Вітаю! Ви велика(ий) молодець, що впоралась(вся). Похваліть себе та побалуйте чимось приємним. Я Вами пишаюся."
      ]
    }
  ],
  "metadata": {
    "colab": {
      "provenance": []
    },
    "kernelspec": {
      "display_name": "Python 3",
      "name": "python3"
    },
    "language_info": {
      "codemirror_mode": {
        "name": "ipython",
        "version": 3
      },
      "file_extension": ".py",
      "mimetype": "text/x-python",
      "name": "python",
      "nbconvert_exporter": "python",
      "pygments_lexer": "ipython3",
      "version": "3.10.6"
    }
  },
  "nbformat": 4,
  "nbformat_minor": 0
}

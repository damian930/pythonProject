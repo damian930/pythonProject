{
  "cells": [
    {
      "cell_type": "markdown",
      "metadata": {
        "id": "UGq-umSbXBU_"
      },
      "source": [
        "# I. Importing. Creating DF"
      ]
    },
    {
      "cell_type": "markdown",
      "metadata": {
        "id": "GccRY9csXyKK"
      },
      "source": [
        "1. (2б) Імпортувати бібліотеку pandas та numpy."
      ]
    },
    {
      "cell_type": "code",
      "execution_count": 109,
      "metadata": {
        "id": "PoYWWSfyYEnV"
      },
      "outputs": [],
      "source": [
        "import pandas as pd\n",
        "import numpy as np"
      ]
    },
    {
      "cell_type": "markdown",
      "metadata": {
        "id": "63YenVp1YG9L"
      },
      "source": [
        "2. (3б) Створити тестовий датафрейм зі списку, що містить записи пацієнтів про їхні прізвища, імена, дату народження, масу тіла та наявність медичного страхування. Одне зі значень зробить пустим. Ознайомтесь з типом кожної колонки."
      ]
    },
    {
      "cell_type": "code",
      "execution_count": 110,
      "metadata": {
        "id": "LmDTnfjyYvS4"
      },
      "outputs": [
        {
          "name": "stdout",
          "output_type": "stream",
          "text": [
            "    Surname    Name  Birth date  Weight Health care\n",
            "0  Dragovoz  Damian  28-12-2004      64       False\n",
            "1     Pines  Dipper   31-8-1999      50         NaN\n"
          ]
        }
      ],
      "source": [
        "task_2_df = pd.DataFrame([[\"Dragovoz\", \"Damian\", \"28-12-2004\", 64, False],\n",
        "                          [\"Pines\", \"Dipper\", \"31-8-1999\", 50, np.nan]],\n",
        "                          columns=[\"Surname\", \"Name\", \"Birth date\", \"Weight\", \"Health care\"])\n",
        "print(task_2_df)"
      ]
    },
    {
      "cell_type": "code",
      "execution_count": 111,
      "metadata": {
        "id": "W4A_0UrSe8L_"
      },
      "outputs": [
        {
          "name": "stdout",
          "output_type": "stream",
          "text": [
            "Surname        object\n",
            "Name           object\n",
            "Birth date     object\n",
            "Weight          int64\n",
            "Health care    object\n",
            "dtype: object\n"
          ]
        }
      ],
      "source": [
        "print(task_2_df.dtypes)"
      ]
    },
    {
      "cell_type": "markdown",
      "metadata": {
        "id": "x0IhwF9pXHh8"
      },
      "source": [
        "# II. Reading from file"
      ]
    },
    {
      "cell_type": "markdown",
      "metadata": {
        "id": "saW-Rc4da7hn"
      },
      "source": [
        "3. (7б) Завантажити файл missile_attacks_daily.csv з [Kaggle](https://www.kaggle.com/datasets/piterfm/massive-missile-attacks-on-ukraine?select=missile_attacks_daily.csv). Ознайомитись з описом датасету. Додати файл до папки поточної сесії colab notebook на панелі ліворуч або на гугл диск (локально до проєкту, якщо працюєте у пайчармі). Зчитати датафрейм з файлу та вивести датафрейм на екран. Зверніть увагу на те, щоб всі колонки відповідали наведеним у описі типам даних."
      ]
    },
    {
      "cell_type": "code",
      "execution_count": 112,
      "metadata": {
        "id": "6pqfFRlRcI_O"
      },
      "outputs": [],
      "source": [
        "data_path = \"D:/Admin/Desktop/Collage year 2/Python/pythonProject/missile_attacks_daily.csv\"\n",
        "df = pd.read_csv(data_path, sep=',', header=0, na_values='?')\n"
      ]
    },
    {
      "cell_type": "markdown",
      "metadata": {
        "id": "Els8IH1uXNgh"
      },
      "source": [
        "# III. Data understanding"
      ]
    },
    {
      "cell_type": "markdown",
      "metadata": {
        "id": "gOU94E1ucH3o"
      },
      "source": [
        "4. (2б) Виведіть на екран перші 10 рядків зчитаного датафрейму."
      ]
    },
    {
      "cell_type": "code",
      "execution_count": 113,
      "metadata": {
        "id": "NJhjSpBCkMft"
      },
      "outputs": [
        {
          "data": {
            "text/html": [
              "<div>\n",
              "<style scoped>\n",
              "    .dataframe tbody tr th:only-of-type {\n",
              "        vertical-align: middle;\n",
              "    }\n",
              "\n",
              "    .dataframe tbody tr th {\n",
              "        vertical-align: top;\n",
              "    }\n",
              "\n",
              "    .dataframe thead th {\n",
              "        text-align: right;\n",
              "    }\n",
              "</style>\n",
              "<table border=\"1\" class=\"dataframe\">\n",
              "  <thead>\n",
              "    <tr style=\"text-align: right;\">\n",
              "      <th></th>\n",
              "      <th>time_start</th>\n",
              "      <th>time_end</th>\n",
              "      <th>model</th>\n",
              "      <th>launch_place</th>\n",
              "      <th>target</th>\n",
              "      <th>destroyed_details</th>\n",
              "      <th>carrier</th>\n",
              "      <th>launched</th>\n",
              "      <th>destroyed</th>\n",
              "      <th>source</th>\n",
              "    </tr>\n",
              "  </thead>\n",
              "  <tbody>\n",
              "    <tr>\n",
              "      <th>0</th>\n",
              "      <td>2024-03-24</td>\n",
              "      <td>2024-03-24 08:00</td>\n",
              "      <td>X-101/X-555</td>\n",
              "      <td>Engels-2</td>\n",
              "      <td>Ukraine</td>\n",
              "      <td>NaN</td>\n",
              "      <td>14 x Tu-95MS</td>\n",
              "      <td>29.0</td>\n",
              "      <td>18</td>\n",
              "      <td>kpszsu/posts/pfbid02E9itApFzseeXaKMzes3zT2DHau...</td>\n",
              "    </tr>\n",
              "    <tr>\n",
              "      <th>1</th>\n",
              "      <td>2024-03-24</td>\n",
              "      <td>2024-03-24 08:00</td>\n",
              "      <td>Shahed-136/131</td>\n",
              "      <td>Primorsko-Akhtarsk and Chauda, Crimea</td>\n",
              "      <td>Ukraine</td>\n",
              "      <td>{'Dnipropetrovsk oblast': 17, 'Kherson oblast'...</td>\n",
              "      <td>NaN</td>\n",
              "      <td>28.0</td>\n",
              "      <td>25</td>\n",
              "      <td>kpszsu/posts/pfbid02E9itApFzseeXaKMzes3zT2DHau...</td>\n",
              "    </tr>\n",
              "    <tr>\n",
              "      <th>2</th>\n",
              "      <td>2024-03-23</td>\n",
              "      <td>2024-03-23 08:00</td>\n",
              "      <td>Shahed-136/131</td>\n",
              "      <td>Chauda, Crimea and Kursk oblast</td>\n",
              "      <td>Ukraine</td>\n",
              "      <td>{'Poltava oblast': 2, 'Kherson oblast': 3, 'Dn...</td>\n",
              "      <td>NaN</td>\n",
              "      <td>34.0</td>\n",
              "      <td>31</td>\n",
              "      <td>kpszsu/posts/pfbid0Jo2zmM4BzAZfS91x3Eb5Aa6L7AF...</td>\n",
              "    </tr>\n",
              "    <tr>\n",
              "      <th>3</th>\n",
              "      <td>2024-03-23</td>\n",
              "      <td>2024-03-23 08:00</td>\n",
              "      <td>C-300</td>\n",
              "      <td>NaN</td>\n",
              "      <td>Donetsk oblast</td>\n",
              "      <td>NaN</td>\n",
              "      <td>NaN</td>\n",
              "      <td>4.0</td>\n",
              "      <td>0</td>\n",
              "      <td>kpszsu/posts/pfbid0Jo2zmM4BzAZfS91x3Eb5Aa6L7AF...</td>\n",
              "    </tr>\n",
              "    <tr>\n",
              "      <th>4</th>\n",
              "      <td>2024-03-23</td>\n",
              "      <td>2024-03-23</td>\n",
              "      <td>ZALA</td>\n",
              "      <td>NaN</td>\n",
              "      <td>south</td>\n",
              "      <td>NaN</td>\n",
              "      <td>NaN</td>\n",
              "      <td>2.0</td>\n",
              "      <td>2</td>\n",
              "      <td>PvKPivden/posts/pfbid02rMwctKZrMFpQUXBtK15WCD8...</td>\n",
              "    </tr>\n",
              "    <tr>\n",
              "      <th>5</th>\n",
              "      <td>2024-03-22 02:00</td>\n",
              "      <td>2024-03-22 09:00</td>\n",
              "      <td>X-59</td>\n",
              "      <td>Zaporizhzhia oblast</td>\n",
              "      <td>east</td>\n",
              "      <td>NaN</td>\n",
              "      <td>Su-34</td>\n",
              "      <td>2.0</td>\n",
              "      <td>2</td>\n",
              "      <td>kpszsu/posts/pfbid0G2H3qnSqb4ZcDPgrD1by43GSeZ4...</td>\n",
              "    </tr>\n",
              "    <tr>\n",
              "      <th>6</th>\n",
              "      <td>2024-03-22 02:00</td>\n",
              "      <td>2024-03-22 09:00</td>\n",
              "      <td>X-47 Kinzhal</td>\n",
              "      <td>Tambov oblast</td>\n",
              "      <td>Ukraine</td>\n",
              "      <td>NaN</td>\n",
              "      <td>10 x MIG-31K</td>\n",
              "      <td>7.0</td>\n",
              "      <td>0</td>\n",
              "      <td>kpszsu/posts/pfbid0G2H3qnSqb4ZcDPgrD1by43GSeZ4...</td>\n",
              "    </tr>\n",
              "    <tr>\n",
              "      <th>7</th>\n",
              "      <td>2024-03-22 02:00</td>\n",
              "      <td>2024-03-22 09:00</td>\n",
              "      <td>X-22</td>\n",
              "      <td>Rostov oblast</td>\n",
              "      <td>Ukraine</td>\n",
              "      <td>NaN</td>\n",
              "      <td>Tu-22M3</td>\n",
              "      <td>5.0</td>\n",
              "      <td>0</td>\n",
              "      <td>kpszsu/posts/pfbid0G2H3qnSqb4ZcDPgrD1by43GSeZ4...</td>\n",
              "    </tr>\n",
              "    <tr>\n",
              "      <th>8</th>\n",
              "      <td>2024-03-22 02:00</td>\n",
              "      <td>2024-03-22 09:00</td>\n",
              "      <td>X-101/X-555</td>\n",
              "      <td>Caspian Sea</td>\n",
              "      <td>Ukraine</td>\n",
              "      <td>NaN</td>\n",
              "      <td>13 x Tu-95MS</td>\n",
              "      <td>40.0</td>\n",
              "      <td>35</td>\n",
              "      <td>kpszsu/posts/pfbid0G2H3qnSqb4ZcDPgrD1by43GSeZ4...</td>\n",
              "    </tr>\n",
              "    <tr>\n",
              "      <th>9</th>\n",
              "      <td>2024-03-22 02:00</td>\n",
              "      <td>2024-03-22 09:00</td>\n",
              "      <td>Shahed-136/131</td>\n",
              "      <td>Primorsko-Akhtarsk</td>\n",
              "      <td>Ukraine</td>\n",
              "      <td>{'Odesa oblast': 14, 'Kherson oblast': 5, 'Dni...</td>\n",
              "      <td>NaN</td>\n",
              "      <td>63.0</td>\n",
              "      <td>55</td>\n",
              "      <td>kpszsu/posts/pfbid0G2H3qnSqb4ZcDPgrD1by43GSeZ4...</td>\n",
              "    </tr>\n",
              "  </tbody>\n",
              "</table>\n",
              "</div>"
            ],
            "text/plain": [
              "         time_start          time_end           model  \\\n",
              "0        2024-03-24  2024-03-24 08:00     X-101/X-555   \n",
              "1        2024-03-24  2024-03-24 08:00  Shahed-136/131   \n",
              "2        2024-03-23  2024-03-23 08:00  Shahed-136/131   \n",
              "3        2024-03-23  2024-03-23 08:00           C-300   \n",
              "4        2024-03-23        2024-03-23            ZALA   \n",
              "5  2024-03-22 02:00  2024-03-22 09:00            X-59   \n",
              "6  2024-03-22 02:00  2024-03-22 09:00    X-47 Kinzhal   \n",
              "7  2024-03-22 02:00  2024-03-22 09:00            X-22   \n",
              "8  2024-03-22 02:00  2024-03-22 09:00     X-101/X-555   \n",
              "9  2024-03-22 02:00  2024-03-22 09:00  Shahed-136/131   \n",
              "\n",
              "                            launch_place          target  \\\n",
              "0                               Engels-2         Ukraine   \n",
              "1  Primorsko-Akhtarsk and Chauda, Crimea         Ukraine   \n",
              "2        Chauda, Crimea and Kursk oblast         Ukraine   \n",
              "3                                    NaN  Donetsk oblast   \n",
              "4                                    NaN           south   \n",
              "5                    Zaporizhzhia oblast            east   \n",
              "6                          Tambov oblast         Ukraine   \n",
              "7                          Rostov oblast         Ukraine   \n",
              "8                            Caspian Sea         Ukraine   \n",
              "9                     Primorsko-Akhtarsk         Ukraine   \n",
              "\n",
              "                                   destroyed_details       carrier  launched  \\\n",
              "0                                                NaN  14 x Tu-95MS      29.0   \n",
              "1  {'Dnipropetrovsk oblast': 17, 'Kherson oblast'...           NaN      28.0   \n",
              "2  {'Poltava oblast': 2, 'Kherson oblast': 3, 'Dn...           NaN      34.0   \n",
              "3                                                NaN           NaN       4.0   \n",
              "4                                                NaN           NaN       2.0   \n",
              "5                                                NaN         Su-34       2.0   \n",
              "6                                                NaN  10 x MIG-31K       7.0   \n",
              "7                                                NaN       Tu-22M3       5.0   \n",
              "8                                                NaN  13 x Tu-95MS      40.0   \n",
              "9  {'Odesa oblast': 14, 'Kherson oblast': 5, 'Dni...           NaN      63.0   \n",
              "\n",
              "   destroyed                                             source  \n",
              "0         18  kpszsu/posts/pfbid02E9itApFzseeXaKMzes3zT2DHau...  \n",
              "1         25  kpszsu/posts/pfbid02E9itApFzseeXaKMzes3zT2DHau...  \n",
              "2         31  kpszsu/posts/pfbid0Jo2zmM4BzAZfS91x3Eb5Aa6L7AF...  \n",
              "3          0  kpszsu/posts/pfbid0Jo2zmM4BzAZfS91x3Eb5Aa6L7AF...  \n",
              "4          2  PvKPivden/posts/pfbid02rMwctKZrMFpQUXBtK15WCD8...  \n",
              "5          2  kpszsu/posts/pfbid0G2H3qnSqb4ZcDPgrD1by43GSeZ4...  \n",
              "6          0  kpszsu/posts/pfbid0G2H3qnSqb4ZcDPgrD1by43GSeZ4...  \n",
              "7          0  kpszsu/posts/pfbid0G2H3qnSqb4ZcDPgrD1by43GSeZ4...  \n",
              "8         35  kpszsu/posts/pfbid0G2H3qnSqb4ZcDPgrD1by43GSeZ4...  \n",
              "9         55  kpszsu/posts/pfbid0G2H3qnSqb4ZcDPgrD1by43GSeZ4...  "
            ]
          },
          "execution_count": 113,
          "metadata": {},
          "output_type": "execute_result"
        }
      ],
      "source": [
        "df.head(10)"
      ]
    },
    {
      "cell_type": "markdown",
      "metadata": {
        "id": "0suTZxKTlQhv"
      },
      "source": [
        "5. (2б) Отримайте інформацію про форму датафрейму."
      ]
    },
    {
      "cell_type": "code",
      "execution_count": 114,
      "metadata": {
        "id": "LoMu3GiYlRYB"
      },
      "outputs": [
        {
          "data": {
            "text/plain": [
              "(861, 10)"
            ]
          },
          "execution_count": 114,
          "metadata": {},
          "output_type": "execute_result"
        }
      ],
      "source": [
        "df.shape"
      ]
    },
    {
      "cell_type": "markdown",
      "metadata": {
        "id": "WQbt5RWqY7S2"
      },
      "source": [
        "6. (3б) Отримайте дані про кожну колонку з її назвою, типом даних та кількістю непустих значень."
      ]
    },
    {
      "cell_type": "code",
      "execution_count": 115,
      "metadata": {
        "id": "uhosUtbPZr7i"
      },
      "outputs": [
        {
          "name": "stdout",
          "output_type": "stream",
          "text": [
            "<class 'pandas.core.frame.DataFrame'>\n",
            "RangeIndex: 861 entries, 0 to 860\n",
            "Data columns (total 10 columns):\n",
            " #   Column             Non-Null Count  Dtype  \n",
            "---  ------             --------------  -----  \n",
            " 0   time_start         861 non-null    object \n",
            " 1   time_end           861 non-null    object \n",
            " 2   model              861 non-null    object \n",
            " 3   launch_place       466 non-null    object \n",
            " 4   target             833 non-null    object \n",
            " 5   destroyed_details  68 non-null     object \n",
            " 6   carrier            169 non-null    object \n",
            " 7   launched           858 non-null    float64\n",
            " 8   destroyed          861 non-null    int64  \n",
            " 9   source             861 non-null    object \n",
            "dtypes: float64(1), int64(1), object(8)\n",
            "memory usage: 67.4+ KB\n"
          ]
        }
      ],
      "source": [
        "df.info()"
      ]
    },
    {
      "cell_type": "markdown",
      "metadata": {
        "id": "o2qWML8dkWxo"
      },
      "source": [
        "7. (3б) Отримайте статистику для колонок числового типу."
      ]
    },
    {
      "cell_type": "code",
      "execution_count": 116,
      "metadata": {
        "id": "7Uuna7fFZGl4"
      },
      "outputs": [
        {
          "data": {
            "text/html": [
              "<div>\n",
              "<style scoped>\n",
              "    .dataframe tbody tr th:only-of-type {\n",
              "        vertical-align: middle;\n",
              "    }\n",
              "\n",
              "    .dataframe tbody tr th {\n",
              "        vertical-align: top;\n",
              "    }\n",
              "\n",
              "    .dataframe thead th {\n",
              "        text-align: right;\n",
              "    }\n",
              "</style>\n",
              "<table border=\"1\" class=\"dataframe\">\n",
              "  <thead>\n",
              "    <tr style=\"text-align: right;\">\n",
              "      <th></th>\n",
              "      <th>launched</th>\n",
              "      <th>destroyed</th>\n",
              "    </tr>\n",
              "  </thead>\n",
              "  <tbody>\n",
              "    <tr>\n",
              "      <th>count</th>\n",
              "      <td>858.000000</td>\n",
              "      <td>861.000000</td>\n",
              "    </tr>\n",
              "    <tr>\n",
              "      <th>mean</th>\n",
              "      <td>9.083916</td>\n",
              "      <td>7.038328</td>\n",
              "    </tr>\n",
              "    <tr>\n",
              "      <th>std</th>\n",
              "      <td>12.747066</td>\n",
              "      <td>11.021002</td>\n",
              "    </tr>\n",
              "    <tr>\n",
              "      <th>min</th>\n",
              "      <td>1.000000</td>\n",
              "      <td>0.000000</td>\n",
              "    </tr>\n",
              "    <tr>\n",
              "      <th>25%</th>\n",
              "      <td>1.000000</td>\n",
              "      <td>1.000000</td>\n",
              "    </tr>\n",
              "    <tr>\n",
              "      <th>50%</th>\n",
              "      <td>4.000000</td>\n",
              "      <td>2.000000</td>\n",
              "    </tr>\n",
              "    <tr>\n",
              "      <th>75%</th>\n",
              "      <td>12.000000</td>\n",
              "      <td>10.000000</td>\n",
              "    </tr>\n",
              "    <tr>\n",
              "      <th>max</th>\n",
              "      <td>96.000000</td>\n",
              "      <td>87.000000</td>\n",
              "    </tr>\n",
              "  </tbody>\n",
              "</table>\n",
              "</div>"
            ],
            "text/plain": [
              "         launched   destroyed\n",
              "count  858.000000  861.000000\n",
              "mean     9.083916    7.038328\n",
              "std     12.747066   11.021002\n",
              "min      1.000000    0.000000\n",
              "25%      1.000000    1.000000\n",
              "50%      4.000000    2.000000\n",
              "75%     12.000000   10.000000\n",
              "max     96.000000   87.000000"
            ]
          },
          "execution_count": 116,
          "metadata": {},
          "output_type": "execute_result"
        }
      ],
      "source": [
        "df.describe()"
      ]
    },
    {
      "cell_type": "markdown",
      "metadata": {
        "id": "jCtJYQ0IoRYY"
      },
      "source": [
        "8. (2б) Отримати кількість унікальних значень у кожній колонці."
      ]
    },
    {
      "cell_type": "code",
      "execution_count": 117,
      "metadata": {
        "id": "LKM9jK2coRmS"
      },
      "outputs": [
        {
          "data": {
            "text/plain": [
              "time_start           436\n",
              "time_end             482\n",
              "model                 43\n",
              "launch_place          85\n",
              "target                79\n",
              "destroyed_details     68\n",
              "carrier               50\n",
              "launched              57\n",
              "destroyed             54\n",
              "source               443\n",
              "dtype: int64"
            ]
          },
          "execution_count": 117,
          "metadata": {},
          "output_type": "execute_result"
        }
      ],
      "source": [
        "df.nunique()"
      ]
    },
    {
      "cell_type": "markdown",
      "metadata": {
        "id": "K7zrc1fGo8Jl"
      },
      "source": [
        "9. (3б) Вивести на екран значення та кількість цих значень у колонці, яка має найменше унікальних значень (див. попереднє завдання)."
      ]
    },
    {
      "cell_type": "code",
      "execution_count": 118,
      "metadata": {
        "id": "waAe6kOtpQpn"
      },
      "outputs": [
        {
          "name": "stdout",
          "output_type": "stream",
          "text": [
            "<bound method IndexOpsMixin.value_counts of 0             X-101/X-555\n",
            "1          Shahed-136/131\n",
            "2          Shahed-136/131\n",
            "3                   C-300\n",
            "4                    ZALA\n",
            "              ...        \n",
            "856              Orlan-10\n",
            "857              Orlan-10\n",
            "858        Shahed-136/131\n",
            "859                  X-59\n",
            "860    Reconnaissance UAV\n",
            "Name: model, Length: 861, dtype: object>\n"
          ]
        }
      ],
      "source": [
        "print(df[\"model\"].value_counts)"
      ]
    },
    {
      "cell_type": "markdown",
      "metadata": {
        "id": "zm97-MpdmA7U"
      },
      "source": [
        "10. (15б) На основі отриманої інформації про датасет вище, опишіть по пунктах, що б ви виправили або на що б звернули увагу на кроці очищення даних і чому?"
      ]
    },
    {
      "cell_type": "markdown",
      "metadata": {
        "id": "oyizBbg8mPtk"
      },
      "source": [
        " #   Column             Non-Null Count  Dtype  \n",
        "---  ------             --------------  -----  \n",
        " 0   time_start         861 non-null    object \n",
        " 1   time_end           861 non-null    object \n",
        " 2   model              861 non-null    object \n",
        " 3   launch_place       466 non-null    object \n",
        " 4   target             833 non-null    object \n",
        " 5   destroyed_details  68 non-null     object \n",
        " 6   carrier            169 non-null    object \n",
        " 7   launched           858 non-null    float64\n",
        " 8   destroyed          861 non-null    int64  \n",
        " 9   source             861 non-null    object \n",
        "\n",
        " \t\tlaunched\tdestroyed\n",
        "count\t858.000000\t861.000000\n",
        "mean\t9.083916\t7.038328\n",
        "std\t12.747066\t11.021002\n",
        "min\t1.000000\t0.000000\n",
        "25%\t1.000000\t1.000000\n",
        "50%\t4.000000\t2.000000\n",
        "75%\t12.000000\t10.000000\n",
        "max\t96.000000\t87.000000\n",
        "\n",
        " 1. launches не повинен бути float\n",
        " 2. destriyed_details майже завжди не запоанено\n",
        "\n",
        "...\n"
      ]
    },
    {
      "cell_type": "markdown",
      "metadata": {
        "id": "lEnlgfWIXTBM"
      },
      "source": [
        "# IV. Data Cleaning"
      ]
    },
    {
      "cell_type": "markdown",
      "metadata": {
        "id": "sMAKQ2KClt8W"
      },
      "source": [
        "11. (3б) Перетворити колонку launched у цілочислену (Int64). Перевірити, чи все пройшло, як очікувалось."
      ]
    },
    {
      "cell_type": "code",
      "execution_count": 119,
      "metadata": {
        "id": "exhFbYXNluKY"
      },
      "outputs": [
        {
          "name": "stdout",
          "output_type": "stream",
          "text": [
            "time_start            object\n",
            "time_end              object\n",
            "model                 object\n",
            "launch_place          object\n",
            "target                object\n",
            "destroyed_details     object\n",
            "carrier               object\n",
            "launched             float64\n",
            "destroyed              int64\n",
            "source                object\n",
            "dtype: object\n"
          ]
        }
      ],
      "source": [
        "print(df.dtypes)\n"
      ]
    },
    {
      "cell_type": "code",
      "execution_count": 120,
      "metadata": {
        "id": "mb4Fhh2Nq040"
      },
      "outputs": [
        {
          "name": "stdout",
          "output_type": "stream",
          "text": [
            "time_start            object\n",
            "time_end              object\n",
            "model                 object\n",
            "launch_place          object\n",
            "target                object\n",
            "destroyed_details     object\n",
            "carrier               object\n",
            "launched             float64\n",
            "destroyed              int64\n",
            "source                object\n",
            "dtype: object\n"
          ]
        }
      ],
      "source": [
        "df.astype({\"launched\": \"Int64\"})\n",
        "print(df.dtypes)"
      ]
    },
    {
      "cell_type": "markdown",
      "metadata": {
        "id": "GaVa4kNRrD9D"
      },
      "source": [
        "12. (3б) Видалити колонки, де кількість непустих значень становить менше 30% від загальної кількості записів. Можна вручну порахувати і тут тільки видалити. За автоматизацію розрахунку відстоків - додаткові 3 бали."
      ]
    },
    {
      "cell_type": "code",
      "execution_count": 121,
      "metadata": {
        "id": "qXA7GgKtrYET"
      },
      "outputs": [
        {
          "name": "stdout",
          "output_type": "stream",
          "text": [
            "<class 'pandas.core.frame.DataFrame'>\n",
            "RangeIndex: 861 entries, 0 to 860\n",
            "Data columns (total 10 columns):\n",
            " #   Column             Non-Null Count  Dtype  \n",
            "---  ------             --------------  -----  \n",
            " 0   time_start         861 non-null    object \n",
            " 1   time_end           861 non-null    object \n",
            " 2   model              861 non-null    object \n",
            " 3   launch_place       466 non-null    object \n",
            " 4   target             833 non-null    object \n",
            " 5   destroyed_details  68 non-null     object \n",
            " 6   carrier            169 non-null    object \n",
            " 7   launched           858 non-null    float64\n",
            " 8   destroyed          861 non-null    int64  \n",
            " 9   source             861 non-null    object \n",
            "dtypes: float64(1), int64(1), object(8)\n",
            "memory usage: 67.4+ KB\n",
            "\n",
            "\n",
            " time_start           0.000000\n",
            "time_end             0.000000\n",
            "model                0.000000\n",
            "launch_place         0.458769\n",
            "target               0.032520\n",
            "destroyed_details    0.921022\n",
            "carrier              0.803717\n",
            "launched             0.003484\n",
            "destroyed            0.000000\n",
            "source               0.000000\n",
            "dtype: float64 \n",
            "\n",
            "<class 'pandas.core.frame.DataFrame'>\n",
            "RangeIndex: 861 entries, 0 to 860\n",
            "Data columns (total 8 columns):\n",
            " #   Column        Non-Null Count  Dtype  \n",
            "---  ------        --------------  -----  \n",
            " 0   time_start    861 non-null    object \n",
            " 1   time_end      861 non-null    object \n",
            " 2   model         861 non-null    object \n",
            " 3   launch_place  466 non-null    object \n",
            " 4   target        833 non-null    object \n",
            " 5   launched      858 non-null    float64\n",
            " 6   destroyed     861 non-null    int64  \n",
            " 7   source        861 non-null    object \n",
            "dtypes: float64(1), int64(1), object(6)\n",
            "memory usage: 53.9+ KB\n"
          ]
        }
      ],
      "source": [
        "df.info()\n",
        "print()\n",
        "# 861 line total <- len(df)\n",
        "# 30% = 258    \n",
        "\n",
        "print('\\n', df.isnull().mean(), '\\n')\n",
        "df = df.loc[:, df.isnull().mean() < 1 - 0.3]\n",
        "df.info()"
      ]
    },
    {
      "cell_type": "markdown",
      "metadata": {
        "id": "FmKtguQ9sEtl"
      },
      "source": [
        "13. (4б) Очистити датафрейм від дублікатів (дублюючихся рядків) та записів, де атака продовжувалась відʼємну або нульову кількість часу (що фізично неможливо). Не забудьте оновити індекс. Скільки рядків було видалено? Як ви це перевірили у коді?"
      ]
    },
    {
      "cell_type": "code",
      "execution_count": 122,
      "metadata": {
        "id": "8vH8aoKzsVEJ"
      },
      "outputs": [
        {
          "name": "stdout",
          "output_type": "stream",
          "text": [
            "Rows removed 299\n"
          ]
        }
      ],
      "source": [
        "# df.info()\n",
        "# print()\n",
        "\n",
        "l1 = len(df)\n",
        "df = df.drop_duplicates(keep=\"first\")\n",
        "df = df[df[\"time_end\"] > df[\"time_start\"]].reset_index(drop=False)\n",
        "l2 = len(df)\n",
        "print(\"Rows removed\", l1 - l2)\n"
      ]
    },
    {
      "cell_type": "code",
      "execution_count": null,
      "metadata": {
        "id": "Vvu2FTBvs310"
      },
      "outputs": [],
      "source": []
    },
    {
      "cell_type": "markdown",
      "metadata": {
        "id": "6Pvl-aGos9F-"
      },
      "source": [
        "14. (3б) Виведіть на екран всі рядки, де є хоч одне пропущене значення."
      ]
    },
    {
      "cell_type": "code",
      "execution_count": 27,
      "metadata": {
        "id": "B3DzCi9AtXgO"
      },
      "outputs": [
        {
          "data": {
            "text/html": [
              "<div>\n",
              "<style scoped>\n",
              "    .dataframe tbody tr th:only-of-type {\n",
              "        vertical-align: middle;\n",
              "    }\n",
              "\n",
              "    .dataframe tbody tr th {\n",
              "        vertical-align: top;\n",
              "    }\n",
              "\n",
              "    .dataframe thead th {\n",
              "        text-align: right;\n",
              "    }\n",
              "</style>\n",
              "<table border=\"1\" class=\"dataframe\">\n",
              "  <thead>\n",
              "    <tr style=\"text-align: right;\">\n",
              "      <th></th>\n",
              "      <th>time_start</th>\n",
              "      <th>time_end</th>\n",
              "      <th>model</th>\n",
              "      <th>launch_place</th>\n",
              "      <th>target</th>\n",
              "      <th>launched</th>\n",
              "      <th>destroyed</th>\n",
              "      <th>source</th>\n",
              "    </tr>\n",
              "  </thead>\n",
              "  <tbody>\n",
              "    <tr>\n",
              "      <th>3</th>\n",
              "      <td>2024-03-23</td>\n",
              "      <td>2024-03-23 08:00</td>\n",
              "      <td>C-300</td>\n",
              "      <td>NaN</td>\n",
              "      <td>Donetsk oblast</td>\n",
              "      <td>4.0</td>\n",
              "      <td>0</td>\n",
              "      <td>kpszsu/posts/pfbid0Jo2zmM4BzAZfS91x3Eb5Aa6L7AF...</td>\n",
              "    </tr>\n",
              "    <tr>\n",
              "      <th>4</th>\n",
              "      <td>2024-03-23</td>\n",
              "      <td>2024-03-23</td>\n",
              "      <td>ZALA</td>\n",
              "      <td>NaN</td>\n",
              "      <td>south</td>\n",
              "      <td>2.0</td>\n",
              "      <td>2</td>\n",
              "      <td>PvKPivden/posts/pfbid02rMwctKZrMFpQUXBtK15WCD8...</td>\n",
              "    </tr>\n",
              "    <tr>\n",
              "      <th>13</th>\n",
              "      <td>2024-03-21 03:00</td>\n",
              "      <td>2024-03-21 07:00</td>\n",
              "      <td>Iskander-M/KN-23/X-47 Kinzhal</td>\n",
              "      <td>NaN</td>\n",
              "      <td>Kyiv oblast</td>\n",
              "      <td>2.0</td>\n",
              "      <td>2</td>\n",
              "      <td>kpszsu/posts/pfbid024ZjSa6LyBpqHEUKgGXtEMfAnpt...</td>\n",
              "    </tr>\n",
              "    <tr>\n",
              "      <th>14</th>\n",
              "      <td>2024-03-21</td>\n",
              "      <td>2024-03-21</td>\n",
              "      <td>Supercam</td>\n",
              "      <td>NaN</td>\n",
              "      <td>Odesa oblast</td>\n",
              "      <td>1.0</td>\n",
              "      <td>1</td>\n",
              "      <td>PvKPivden/posts/pfbid02ARvTSdz2u6rpdXCqdfjLW6N...</td>\n",
              "    </tr>\n",
              "    <tr>\n",
              "      <th>15</th>\n",
              "      <td>2024-03-21</td>\n",
              "      <td>2024-03-21</td>\n",
              "      <td>Lancet</td>\n",
              "      <td>NaN</td>\n",
              "      <td>Odesa oblast</td>\n",
              "      <td>2.0</td>\n",
              "      <td>2</td>\n",
              "      <td>PvKPivden/posts/pfbid02ARvTSdz2u6rpdXCqdfjLW6N...</td>\n",
              "    </tr>\n",
              "    <tr>\n",
              "      <th>...</th>\n",
              "      <td>...</td>\n",
              "      <td>...</td>\n",
              "      <td>...</td>\n",
              "      <td>...</td>\n",
              "      <td>...</td>\n",
              "      <td>...</td>\n",
              "      <td>...</td>\n",
              "      <td>...</td>\n",
              "    </tr>\n",
              "    <tr>\n",
              "      <th>856</th>\n",
              "      <td>2022-10-01 12:00</td>\n",
              "      <td>2022-10-01 12:00</td>\n",
              "      <td>Orlan-10</td>\n",
              "      <td>NaN</td>\n",
              "      <td>Ukraine</td>\n",
              "      <td>1.0</td>\n",
              "      <td>1</td>\n",
              "      <td>watch/?v=375517448001233</td>\n",
              "    </tr>\n",
              "    <tr>\n",
              "      <th>857</th>\n",
              "      <td>2022-09-30</td>\n",
              "      <td>2022-09-30</td>\n",
              "      <td>Orlan-10</td>\n",
              "      <td>NaN</td>\n",
              "      <td>Ukraine</td>\n",
              "      <td>3.0</td>\n",
              "      <td>3</td>\n",
              "      <td>kpszsu/posts/pfbid0nELeXY4BpHrezv54Lk3gWPZJmcC...</td>\n",
              "    </tr>\n",
              "    <tr>\n",
              "      <th>858</th>\n",
              "      <td>2022-09-29 23:00</td>\n",
              "      <td>2022-09-29 23:59</td>\n",
              "      <td>Shahed-136/131</td>\n",
              "      <td>NaN</td>\n",
              "      <td>Odesa oblast and Mykolaiv oblast</td>\n",
              "      <td>7.0</td>\n",
              "      <td>5</td>\n",
              "      <td>kpszsu/posts/pfbid021aK2TqryAuB8gGrDYMTv3R8Xiu...</td>\n",
              "    </tr>\n",
              "    <tr>\n",
              "      <th>859</th>\n",
              "      <td>2022-09-28</td>\n",
              "      <td>2022-09-28</td>\n",
              "      <td>X-59</td>\n",
              "      <td>NaN</td>\n",
              "      <td>Dnipropetrovsk oblast and Zaporizhzhia oblast</td>\n",
              "      <td>5.0</td>\n",
              "      <td>4</td>\n",
              "      <td>kpszsu/posts/pfbid02sjn5m7kosAfsm5bSUzpPwbLuH3...</td>\n",
              "    </tr>\n",
              "    <tr>\n",
              "      <th>860</th>\n",
              "      <td>2022-09-28</td>\n",
              "      <td>2022-09-28</td>\n",
              "      <td>Reconnaissance UAV</td>\n",
              "      <td>NaN</td>\n",
              "      <td>Ukraine</td>\n",
              "      <td>3.0</td>\n",
              "      <td>3</td>\n",
              "      <td>kpszsu/posts/pfbid0grmBx6A5LbQ7PVTkSx7jTDgg4iU...</td>\n",
              "    </tr>\n",
              "  </tbody>\n",
              "</table>\n",
              "<p>419 rows × 8 columns</p>\n",
              "</div>"
            ],
            "text/plain": [
              "           time_start          time_end                          model  \\\n",
              "3          2024-03-23  2024-03-23 08:00                          C-300   \n",
              "4          2024-03-23        2024-03-23                           ZALA   \n",
              "13   2024-03-21 03:00  2024-03-21 07:00  Iskander-M/KN-23/X-47 Kinzhal   \n",
              "14         2024-03-21        2024-03-21                       Supercam   \n",
              "15         2024-03-21        2024-03-21                         Lancet   \n",
              "..                ...               ...                            ...   \n",
              "856  2022-10-01 12:00  2022-10-01 12:00                       Orlan-10   \n",
              "857        2022-09-30        2022-09-30                       Orlan-10   \n",
              "858  2022-09-29 23:00  2022-09-29 23:59                 Shahed-136/131   \n",
              "859        2022-09-28        2022-09-28                           X-59   \n",
              "860        2022-09-28        2022-09-28             Reconnaissance UAV   \n",
              "\n",
              "    launch_place                                         target  launched  \\\n",
              "3            NaN                                 Donetsk oblast       4.0   \n",
              "4            NaN                                          south       2.0   \n",
              "13           NaN                                    Kyiv oblast       2.0   \n",
              "14           NaN                                   Odesa oblast       1.0   \n",
              "15           NaN                                   Odesa oblast       2.0   \n",
              "..           ...                                            ...       ...   \n",
              "856          NaN                                        Ukraine       1.0   \n",
              "857          NaN                                        Ukraine       3.0   \n",
              "858          NaN               Odesa oblast and Mykolaiv oblast       7.0   \n",
              "859          NaN  Dnipropetrovsk oblast and Zaporizhzhia oblast       5.0   \n",
              "860          NaN                                        Ukraine       3.0   \n",
              "\n",
              "     destroyed                                             source  \n",
              "3            0  kpszsu/posts/pfbid0Jo2zmM4BzAZfS91x3Eb5Aa6L7AF...  \n",
              "4            2  PvKPivden/posts/pfbid02rMwctKZrMFpQUXBtK15WCD8...  \n",
              "13           2  kpszsu/posts/pfbid024ZjSa6LyBpqHEUKgGXtEMfAnpt...  \n",
              "14           1  PvKPivden/posts/pfbid02ARvTSdz2u6rpdXCqdfjLW6N...  \n",
              "15           2  PvKPivden/posts/pfbid02ARvTSdz2u6rpdXCqdfjLW6N...  \n",
              "..         ...                                                ...  \n",
              "856          1                           watch/?v=375517448001233  \n",
              "857          3  kpszsu/posts/pfbid0nELeXY4BpHrezv54Lk3gWPZJmcC...  \n",
              "858          5  kpszsu/posts/pfbid021aK2TqryAuB8gGrDYMTv3R8Xiu...  \n",
              "859          4  kpszsu/posts/pfbid02sjn5m7kosAfsm5bSUzpPwbLuH3...  \n",
              "860          3  kpszsu/posts/pfbid0grmBx6A5LbQ7PVTkSx7jTDgg4iU...  \n",
              "\n",
              "[419 rows x 8 columns]"
            ]
          },
          "execution_count": 27,
          "metadata": {},
          "output_type": "execute_result"
        }
      ],
      "source": [
        "df[df.isnull().any(axis=1)]"
      ]
    },
    {
      "cell_type": "markdown",
      "metadata": {
        "id": "lSeqvHETXWuH"
      },
      "source": [
        "# V. Data Wrangling"
      ]
    },
    {
      "cell_type": "markdown",
      "metadata": {
        "id": "4d8XNX5ktwmq"
      },
      "source": [
        "15. (9б) Зʼясуйте, який середній відсоток збиття ракет за весь наведений період."
      ]
    },
    {
      "cell_type": "code",
      "execution_count": 124,
      "metadata": {
        "id": "4HPywrrWtvtj"
      },
      "outputs": [
        {
          "name": "stdout",
          "output_type": "stream",
          "text": [
            "77.00183374083129\n"
          ]
        }
      ],
      "source": [
        "t_1 = df[\"launched\"].sum()\n",
        "t_2 = df[\"destroyed\"].sum()\n",
        "print(t_2 / t_1 * 100)"
      ]
    },
    {
      "cell_type": "code",
      "execution_count": null,
      "metadata": {},
      "outputs": [],
      "source": []
    },
    {
      "cell_type": "markdown",
      "metadata": {
        "id": "-V7wBUymuc1I"
      },
      "source": [
        "16. (11б) Зʼясуйте 10 найпопулярніших моделей запущених пристроїв за кількістю випущених одиниць за наведений період. Запишіть результат у файл типу json. Скопіюйте зміст файлу та вставте нижче."
      ]
    },
    {
      "cell_type": "code",
      "execution_count": 88,
      "metadata": {
        "id": "6bcpS9t1ucMR"
      },
      "outputs": [],
      "source": [
        "t_16 = df[\"model\"].value_counts().nlargest(10)\n",
        "t_16.to_json('df_json.json', orient = 'table', index = 'true')"
      ]
    },
    {
      "cell_type": "markdown",
      "metadata": {
        "id": "rA-cRLzmvLIw"
      },
      "source": [
        "17. (10б) Зʼясуйте, у який день було найбільше влучань за весь період (незбитих пристроїв). Виведіть час початку атаки та кількість влучань."
      ]
    },
    {
      "cell_type": "code",
      "execution_count": 158,
      "metadata": {
        "id": "SdyEUrl6xjxr"
      },
      "outputs": [
        {
          "name": "stdout",
          "output_type": "stream",
          "text": [
            "<class 'pandas.core.frame.DataFrame'>\n",
            "RangeIndex: 562 entries, 0 to 561\n",
            "Data columns (total 9 columns):\n",
            " #   Column        Non-Null Count  Dtype  \n",
            "---  ------        --------------  -----  \n",
            " 0   index         562 non-null    int64  \n",
            " 1   time_start    562 non-null    object \n",
            " 2   time_end      562 non-null    object \n",
            " 3   model         562 non-null    object \n",
            " 4   launch_place  415 non-null    object \n",
            " 5   target        552 non-null    object \n",
            " 6   launched      559 non-null    float64\n",
            " 7   destroyed     562 non-null    int64  \n",
            " 8   source        562 non-null    object \n",
            "dtypes: float64(1), int64(2), object(6)\n",
            "memory usage: 39.6+ KB\n",
            "\n",
            "           time_start  launched  destroyed\n",
            "0          2024-03-24      29.0         18\n",
            "1          2024-03-24      28.0         25\n",
            "2          2024-03-23      34.0         31\n",
            "3          2024-03-23       4.0          0\n",
            "4    2024-03-22 02:00       2.0          2\n",
            "..                ...       ...        ...\n",
            "557  2022-10-06 09:00       1.0          1\n",
            "558        2022-10-06       9.0          9\n",
            "559        2022-10-05       6.0          6\n",
            "560  2022-10-02 00:00       7.0          5\n",
            "561  2022-09-29 23:00       7.0          5\n",
            "\n",
            "[562 rows x 3 columns]\n",
            "546\n",
            "Attack start: 2022-10-10 06:00\n",
            "Max lauches: 84.0\n",
            "Hit: 41.0\n"
          ]
        },
        {
          "name": "stderr",
          "output_type": "stream",
          "text": [
            "C:\\Users\\Admin\\AppData\\Local\\Temp\\ipykernel_11240\\2018729190.py:6: SettingWithCopyWarning: \n",
            "A value is trying to be set on a copy of a slice from a DataFrame.\n",
            "Try using .loc[row_indexer,col_indexer] = value instead\n",
            "\n",
            "See the caveats in the documentation: https://pandas.pydata.org/pandas-docs/stable/user_guide/indexing.html#returning-a-view-versus-a-copy\n",
            "  t_17[\"hit\"] = t_17[\"launched\"] - t_17[\"destroyed\"]\n"
          ]
        }
      ],
      "source": [
        "df.info()\n",
        "print()\n",
        "\n",
        "t_17 = df[[\"time_start\", \"launched\", \"destroyed\"]]\n",
        "print(t_17)\n",
        "t_17[\"hit\"] = t_17[\"launched\"] - t_17[\"destroyed\"]\n",
        "\n",
        "max = t_17[\"hit\"].idxmax()\n",
        "print(max)\n",
        "result_row = t_17.iloc[[max]].squeeze()\n",
        "print(\"Attack start:\", result_row.iloc[0])\n",
        "print(\"Max lauches:\", result_row.iloc[1])\n",
        "print(\"Hit:\", result_row.iloc[3])"
      ]
    },
    {
      "cell_type": "markdown",
      "metadata": {
        "id": "p2CSdZ_nysiy"
      },
      "source": [
        "18. (15б) Знайдіть найбільш тривалу та найбільш коротку атаки за кожен представлений місяць. Результат отримайте у такому вигляді:\n",
        "\n",
        "![текст посилання](https://drive.google.com/uc?id=1gISSxR2mXjTEOgoAk_vQnXJeqoL-eA5b)\n",
        "\n",
        "\n",
        "Запишіть його у файл типу сsv. Після цього виведіть на екран."
      ]
    },
    {
      "cell_type": "code",
      "execution_count": 190,
      "metadata": {
        "id": "hBeeE2M5yd1k"
      },
      "outputs": [
        {
          "name": "stdout",
          "output_type": "stream",
          "text": [
            "    year  month        duration\n",
            "0   2024      1 0 days 12:00:00\n",
            "1   2024      2 0 days 08:00:00\n",
            "2   2024      3 0 days 08:00:00\n",
            "3   2023      1 0 days 08:00:00\n",
            "4   2023      2 0 days 14:10:00\n",
            "5   2023      3 0 days 04:30:00\n",
            "6   2023      4 1 days 10:30:00\n",
            "7   2023      5 0 days 08:30:00\n",
            "8   2023      6 0 days 08:00:00\n",
            "9   2023      7 0 days 08:00:00\n",
            "10  2023      8 0 days 08:00:00\n",
            "11  2023      9 0 days 08:00:00\n",
            "12  2023     10 0 days 09:00:00\n",
            "13  2023     11 0 days 09:00:00\n",
            "14  2023     12 0 days 13:00:00\n",
            "15  2022      9 0 days 00:59:00\n",
            "16  2022     10 0 days 10:00:00\n",
            "17  2022     11 0 days 03:00:00\n",
            "18  2022     12 0 days 09:15:00 \n",
            "     year  month        duration\n",
            "0   2024      1 0 days 01:10:00\n",
            "1   2024      2 0 days 08:00:00\n",
            "2   2024      3 0 days 04:00:00\n",
            "3   2023      1 0 days 03:00:00\n",
            "4   2023      2 0 days 02:05:00\n",
            "5   2023      3 0 days 02:10:00\n",
            "6   2023      4 0 days 02:00:00\n",
            "7   2023      5 0 days 00:30:00\n",
            "8   2023      6 0 days 02:30:00\n",
            "9   2023      7 0 days 01:30:00\n",
            "10  2023      8 0 days 00:30:00\n",
            "11  2023      9 0 days 05:30:00\n",
            "12  2023     10 0 days 01:00:00\n",
            "13  2023     11 0 days 02:00:00\n",
            "14  2023     12 0 days 01:00:00\n",
            "15  2022      9 0 days 00:59:00\n",
            "16  2022     10 0 days 00:30:00\n",
            "17  2022     11 0 days 01:00:00\n",
            "18  2022     12 0 days 01:00:00\n"
          ]
        }
      ],
      "source": [
        "t_18 = df\n",
        "t_18[\"time_start\"] = pd.to_datetime(df['time_start'], format=\"mixed\")\n",
        "t_18[\"time_end\"] = pd.to_datetime(df['time_end'], format=\"mixed\")\n",
        "t_18[\"attack_duration\"] = t_18[\"time_end\"] - t_18[\"time_start\"]\n",
        "t_18['year'] = t_18['time_start'].dt.year\n",
        "t_18['month'] = t_18['time_start'].dt.month\n",
        "t_18['duration'] = t_18['time_end'] - t_18['time_start']\n",
        "\n",
        "longest = t_18.groupby([\"year\", \"month\"])[\"duration\"].max().reset_index()\n",
        "longest = longest.sort_values([\"year\", \"month\"], ascending=[False, True]).reset_index(drop=True)\n",
        "\n",
        "shortest = t_18.groupby([\"year\", \"month\"])[\"duration\"].min().reset_index()\n",
        "shortest = shortest.sort_values([\"year\", \"month\"], ascending=[False, True]).reset_index(drop=True)\n",
        "\n",
        "longest.to_csv('longest.csv', index=False)\n",
        "shortest.to_csv('shortest.csv', index=False)\n",
        "\n",
        "print(longest, \"\\n\", shortest)\n"
      ]
    },
    {
      "cell_type": "markdown",
      "metadata": {
        "id": "gHNfwGgIXbSO"
      },
      "source": [
        "# Вітаю! Ви велика(ий) молодець, що впоралась(вся). Похваліть себе та побалуйте чимось приємним. Я Вами пишаюся."
      ]
    }
  ],
  "metadata": {
    "colab": {
      "provenance": []
    },
    "kernelspec": {
      "display_name": "Python 3",
      "name": "python3"
    },
    "language_info": {
      "codemirror_mode": {
        "name": "ipython",
        "version": 3
      },
      "file_extension": ".py",
      "mimetype": "text/x-python",
      "name": "python",
      "nbconvert_exporter": "python",
      "pygments_lexer": "ipython3",
      "version": "3.10.6"
    }
  },
  "nbformat": 4,
  "nbformat_minor": 0
}
